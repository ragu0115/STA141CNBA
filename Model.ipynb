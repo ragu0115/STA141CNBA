{
 "cells": [
  {
   "cell_type": "code",
   "execution_count": 2,
   "id": "712f8d22",
   "metadata": {},
   "outputs": [],
   "source": [
    "from sklearn.ensemble import RandomForestRegressor\n",
    "from sklearn.model_selection import GridSearchCV\n",
    "from sklearn.model_selection import train_test_split\n",
    "from sklearn.preprocessing import StandardScaler\n",
    "import pandas as pd\n",
    "\n",
    "players_df = pd.read_csv (\"./data/all_seasons.csv\")\n",
    "players_df = players_df.drop(players_df[players_df.draft_round == 'Undrafted'].index)#Remove undrafted\n",
    "players_df['draft_round'] = pd.to_numeric(players_df['draft_round'])\n",
    "players_df\n",
    "\n",
    "# Load the data\n",
    "X = players_df[[\"age\", \"player_height\", \"player_weight\", \"pts\", \"reb\", \"ast\",\n",
    "                    \"oreb_pct\", \"dreb_pct\", \"usg_pct\", \"ts_pct\", \"ast_pct\"]]\n",
    "y = players_df[\"net_rating\"]\n",
    "\n",
    "# Split the data into training and testing sets\n",
    "X_train, X_test, y_train, y_test = train_test_split(X, y, test_size=0.2, random_state=42)\n",
    "\n",
    "# Scale and normalize the data\n",
    "scaler = StandardScaler()\n",
    "X_train = scaler.fit_transform(X_train)\n",
    "X_test = scaler.transform(X_test)\n",
    "\n",
    "# Set up the parameter grid to search over\n",
    "param_grid = {'n_estimators': [100, 200, 500],\n",
    "                  'max_depth': [None, 10, 20],\n",
    "                  'max_features': ['auto', 'sqrt']}\n",
    "\n",
    "# Instantiate a random forest regression model\n",
    "rf_model = RandomForestRegressor(random_state=42)\n",
    "\n"
   ]
  },
  {
   "cell_type": "code",
   "execution_count": 3,
   "id": "80cac127",
   "metadata": {},
   "outputs": [],
   "source": [
    "# Random Forest Model Function\n",
    "def predict_net_rating(age, player_height, player_weight, pts, reb, ast, oreb_pct, dreb_pct, usg_pct, ts_pct, ast_pct):\n",
    "    # Load the data\n",
    "    X = players_df[[\"age\", \"player_height\", \"player_weight\", \"pts\", \"reb\", \"ast\",\n",
    "                    \"oreb_pct\", \"dreb_pct\", \"usg_pct\", \"ts_pct\", \"ast_pct\"]]\n",
    "    y = players_df[\"net_rating\"]\n",
    "\n",
    "    # Split the data into training and testing sets\n",
    "    X_train, X_test, y_train, y_test = train_test_split(X, y, test_size=0.2, random_state=42)\n",
    "\n",
    "    # Scale and normalize the data\n",
    "    scaler = StandardScaler()\n",
    "    X_train = scaler.fit_transform(X_train)\n",
    "    X_test = scaler.transform(X_test)\n",
    "\n",
    "    # Set up the parameter grid to search over\n",
    "    param_grid = {'n_estimators': [100, 200, 500],\n",
    "                  'max_depth': [None, 10, 20],\n",
    "                  'max_features': ['auto', 'sqrt']}\n",
    "\n",
    "    # Instantiate a random forest regression model\n",
    "    rf_model = RandomForestRegressor(random_state=42)\n",
    "\n",
    "    # Make a prediction using the trained model\n",
    "    input_data = [[age, player_height, player_weight, pts, reb, ast, oreb_pct, dreb_pct, usg_pct, ts_pct, ast_pct]]\n",
    "    input_data_scaled = scaler.transform(input_data)\n",
    "    net_rating = rf_model.predict(input_data_scaled)[0]\n",
    "\n",
    "    return net_rating"
   ]
  },
  {
   "cell_type": "code",
   "execution_count": 4,
   "id": "606ac1e6",
   "metadata": {},
   "outputs": [],
   "source": [
    "import pickle\n",
    "pickle.dump(rf_model, open('model.pkl','wb'))"
   ]
  },
  {
   "cell_type": "code",
   "execution_count": 7,
   "id": "ab75c31d",
   "metadata": {},
   "outputs": [],
   "source": [
    "# Make a prediction using the trained model\n",
    "#input_data = [[age, player_height, player_weight, pts, reb, ast, oreb_pct, dreb_pct, usg_pct, ts_pct, ast_pct]]\n",
    "#input_data_scaled = scaler.transform(input_data)\n",
    "#net_rating = grid_search.predict(input_data_scaled)[0]"
   ]
  }
 ],
 "metadata": {
  "kernelspec": {
   "display_name": "Python 3 (ipykernel)",
   "language": "python",
   "name": "python3"
  },
  "language_info": {
   "codemirror_mode": {
    "name": "ipython",
    "version": 3
   },
   "file_extension": ".py",
   "mimetype": "text/x-python",
   "name": "python",
   "nbconvert_exporter": "python",
   "pygments_lexer": "ipython3",
   "version": "3.9.12"
  }
 },
 "nbformat": 4,
 "nbformat_minor": 5
}
