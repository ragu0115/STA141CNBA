{
 "cells": [
  {
   "cell_type": "code",
   "execution_count": null,
   "id": "0d4fabcd",
   "metadata": {},
   "outputs": [],
   "source": [
    "import numpy as np\n",
    "from flask import Flask, request, jsonify, render_template\n",
    "import pickle\n",
    "from Model import predict_net_rating\n",
    "\n",
    "app = Flask(__name__)\n",
    "model = pickle.load(open('model.pkl', 'rb'))\n",
    "\n",
    "@app.route('/')\n",
    "def index():\n",
    "    return render_template('index.html')\n",
    "\n",
    "@app.route('/', methods=['POST'])\n",
    "def predict():\n",
    "    # get the input values from the form\n",
    "    age = request.form.get('age')\n",
    "    player_height = request.form.get('player_height')\n",
    "    player_weight = request.form.get('player_weight')\n",
    "    pts = request.form.get('pts')\n",
    "    reb = request.form.get('reb')\n",
    "    ast = request.form.get('ast')\n",
    "    oreb_pct = request.form.get('oreb_pct')\n",
    "    dreb_pct = request.form.get('dreb_pct')\n",
    "    usg_pct = request.form.get('usg_pct')\n",
    "    ts_pct = request.form.get('ts_pct')\n",
    "    ast_pct = request.form.get('ast_pct')\n",
    "\n",
    "    # call your prediction function to get the result\n",
    "    result = predict_net_rating(age, player_height, player_weight, pts, reb, ast, oreb_pct, dreb_pct, usg_pct, ts_pct, ast_pct)\n",
    "\n",
    "    # render the HTML template with the result\n",
    "    return render_template('index.html', result=result)\n",
    "\n",
    "if __name__ == \"__main__\":\n",
    "    app.run(debug=True)"
   ]
  }
 ],
 "metadata": {
  "kernelspec": {
   "display_name": "Python 3 (ipykernel)",
   "language": "python",
   "name": "python3"
  },
  "language_info": {
   "codemirror_mode": {
    "name": "ipython",
    "version": 3
   },
   "file_extension": ".py",
   "mimetype": "text/x-python",
   "name": "python",
   "nbconvert_exporter": "python",
   "pygments_lexer": "ipython3",
   "version": "3.9.12"
  }
 },
 "nbformat": 4,
 "nbformat_minor": 5
}
